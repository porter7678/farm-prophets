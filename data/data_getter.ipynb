{
  "nbformat": 4,
  "nbformat_minor": 0,
  "metadata": {
    "kernelspec": {
      "display_name": "Python 3",
      "language": "python",
      "name": "python3"
    },
    "language_info": {
      "codemirror_mode": {
        "name": "ipython",
        "version": 3
      },
      "file_extension": ".py",
      "mimetype": "text/x-python",
      "name": "python",
      "nbconvert_exporter": "python",
      "pygments_lexer": "ipython3",
      "version": "3.8.5"
    },
    "colab": {
      "name": "data_getter.ipynb",
      "provenance": [],
      "collapsed_sections": []
    }
  },
  "cells": [
    {
      "cell_type": "markdown",
      "metadata": {
        "id": "Qemao5-wbF5n"
      },
      "source": [
        "For questions about using the API, see https://quickstats.nass.usda.gov/api"
      ]
    },
    {
      "cell_type": "code",
      "metadata": {
        "id": "mESQnIvTbF5u"
      },
      "source": [
        "import json\n",
        "import requests\n",
        "import numpy as np\n",
        "import pandas as pd\n",
        "from tqdm import tqdm"
      ],
      "execution_count": null,
      "outputs": []
    },
    {
      "cell_type": "code",
      "metadata": {
        "id": "VOZ5eQ8dbF5v",
        "outputId": "012b60e4-864d-4d36-dd10-086a60acd4e8"
      },
      "source": [
        "def get_data(years, states='all'):\n",
        "    \"\"\"\n",
        "    Retrieves data from NASS USDA Quick Stats API. \n",
        "    \n",
        "    Feel free to change what is in the config_url to pull different data, \n",
        "    and feel free to change the columns that are displayed in the output df.\n",
        "    Available features are listed in the docs above.\n",
        "    NOTE: If a requested state has no data for a given year, it is simply skipped.\n",
        "    \n",
        "    Args:\n",
        "        years (list): List of years to retrive. \n",
        "        states (list or str): List of states to retrieve, or 'all'\n",
        "    \n",
        "    Returns:\n",
        "        (DataFrame): dataframe concatenated by state then year\n",
        "    \"\"\"\n",
        "    api_key = '986A28EC-EF35-31C1-A179-461CF9DF4F8E'\n",
        "    root_url = 'http://quickstats.nass.usda.gov/api/api_GET/?key={}'.format(api_key)\n",
        "    \n",
        "    if states == 'all':\n",
        "        states = [\"AL\", \"AK\", \"AZ\", \"AR\", \"CA\", \"CO\", \"CT\", \"DE\", \"FL\", \"GA\", \n",
        "                  \"HI\", \"ID\", \"IL\", \"IN\", \"IA\", \"KS\", \"KY\", \"LA\", \"ME\", \"MD\", \n",
        "                  \"MA\", \"MI\", \"MN\", \"MS\", \"MO\", \"MT\", \"NE\", \"NV\", \"NH\", \"NJ\", \n",
        "                  \"NM\", \"NY\", \"NC\", \"ND\", \"OH\", \"OK\", \"OR\", \"PA\", \"RI\", \"SC\", \n",
        "                  \"SD\", \"TN\", \"TX\", \"UT\", \"VT\", \"VA\", \"WA\", \"WV\", \"WI\", \"WY\"]\n",
        "        \n",
        "    all_dfs = []\n",
        "    with tqdm(total=len(years)*len(states)) as pbar:\n",
        "        for year in years:\n",
        "            for state in states:\n",
        "                # Parameters\n",
        "                source_desc = 'SURVEY' # Program\n",
        "                sector_desc = 'CROPS' # Sector\n",
        "                group_desc = 'FIELD CROPS' # Group\n",
        "                agg_level_desc = 'COUNTY' # Geographical Level\n",
        "                year = year # Year\n",
        "                freq_desc = 'ANNUAL' # Period Type\n",
        "                reference_period_desc = 'YEAR' # Period\n",
        "                statisticcat_desc = 'AREA HARVESTED' # Data Item\n",
        "                state_alpha = state\n",
        "\n",
        "                params = [source_desc, sector_desc, group_desc, agg_level_desc,\n",
        "                          year, freq_desc, reference_period_desc, statisticcat_desc,\n",
        "                          state_alpha]\n",
        "\n",
        "                config_url = '&source_desc={}'\\\n",
        "                             '&sector_desc={}'\\\n",
        "                             '&group_desc={}'\\\n",
        "                             '&agg_level_desc={}'\\\n",
        "                             '&year={}'\\\n",
        "                             '&freq_desc={}'\\\n",
        "                             '&reference_period_desc={}'\\\n",
        "                             '&statisticcat_desc={}'\\\n",
        "                             '&state_alpha={}'.format(*params)\n",
        "\n",
        "                response = requests.get(root_url + config_url)\n",
        "                if response.status_code == 200:\n",
        "                    data = json.loads(response.content.decode('utf-8'))\n",
        "                    df = pd.DataFrame(data['data'])\n",
        "\n",
        "                    ###########################################################################\n",
        "                    # If you want to change the output dataframe, change this list of columns. \n",
        "                    # Possible columns can be found at the above URL under \"Usage\"\n",
        "                    ###########################################################################\n",
        "                    df['fips_code'] = df['state_fips_code'] + df['county_code'] # Note: This might not actually be a valid FIPS code in some cases\n",
        "                    columns = ['year', 'fips_code', 'state_alpha', \n",
        "                               'county_name', 'commodity_desc', 'unit_desc', 'Value','short_desc']\n",
        "                    df = df[columns]\n",
        "                    df = df.rename(columns={'Value':'value'})\n",
        "                    df = df.sort_values(by=['fips_code', 'commodity_desc'])\n",
        "\n",
        "                    all_dfs.append(df)\n",
        "                pbar.update()\n",
        "                \n",
        "    return pd.concat(all_dfs, ignore_index=True)\n",
        "\n",
        "df = get_data(years=np.arange(1900, 2021), states=['ND'])"
      ],
      "execution_count": null,
      "outputs": [
        {
          "output_type": "stream",
          "text": [
            "100%|██████████| 21/21 [00:56<00:00,  2.68s/it]\n"
          ],
          "name": "stderr"
        }
      ]
    },
    {
      "cell_type": "code",
      "metadata": {
        "id": "LxuuMfYrbF5x",
        "outputId": "1138562a-0981-4842-bfaa-ab23e07ec7a0"
      },
      "source": [
        "df.head()"
      ],
      "execution_count": null,
      "outputs": [
        {
          "output_type": "execute_result",
          "data": {
            "text/html": [
              "<div>\n",
              "<style scoped>\n",
              "    .dataframe tbody tr th:only-of-type {\n",
              "        vertical-align: middle;\n",
              "    }\n",
              "\n",
              "    .dataframe tbody tr th {\n",
              "        vertical-align: top;\n",
              "    }\n",
              "\n",
              "    .dataframe thead th {\n",
              "        text-align: right;\n",
              "    }\n",
              "</style>\n",
              "<table border=\"1\" class=\"dataframe\">\n",
              "  <thead>\n",
              "    <tr style=\"text-align: right;\">\n",
              "      <th></th>\n",
              "      <th>year</th>\n",
              "      <th>fips_code</th>\n",
              "      <th>state_alpha</th>\n",
              "      <th>county_name</th>\n",
              "      <th>commodity_desc</th>\n",
              "      <th>unit_desc</th>\n",
              "      <th>value</th>\n",
              "    </tr>\n",
              "  </thead>\n",
              "  <tbody>\n",
              "    <tr>\n",
              "      <th>0</th>\n",
              "      <td>2000</td>\n",
              "      <td>38001</td>\n",
              "      <td>ND</td>\n",
              "      <td>ADAMS</td>\n",
              "      <td>BARLEY</td>\n",
              "      <td>ACRES</td>\n",
              "      <td>8,200</td>\n",
              "    </tr>\n",
              "    <tr>\n",
              "      <th>1</th>\n",
              "      <td>2000</td>\n",
              "      <td>38001</td>\n",
              "      <td>ND</td>\n",
              "      <td>ADAMS</td>\n",
              "      <td>CANOLA</td>\n",
              "      <td>ACRES</td>\n",
              "      <td>2,300</td>\n",
              "    </tr>\n",
              "    <tr>\n",
              "      <th>2</th>\n",
              "      <td>2000</td>\n",
              "      <td>38001</td>\n",
              "      <td>ND</td>\n",
              "      <td>ADAMS</td>\n",
              "      <td>CORN</td>\n",
              "      <td>ACRES</td>\n",
              "      <td>4,000</td>\n",
              "    </tr>\n",
              "    <tr>\n",
              "      <th>3</th>\n",
              "      <td>2000</td>\n",
              "      <td>38001</td>\n",
              "      <td>ND</td>\n",
              "      <td>ADAMS</td>\n",
              "      <td>CORN</td>\n",
              "      <td>ACRES</td>\n",
              "      <td>4,900</td>\n",
              "    </tr>\n",
              "    <tr>\n",
              "      <th>4</th>\n",
              "      <td>2000</td>\n",
              "      <td>38001</td>\n",
              "      <td>ND</td>\n",
              "      <td>ADAMS</td>\n",
              "      <td>CORN</td>\n",
              "      <td>ACRES</td>\n",
              "      <td>4,000</td>\n",
              "    </tr>\n",
              "  </tbody>\n",
              "</table>\n",
              "</div>"
            ],
            "text/plain": [
              "   year fips_code state_alpha county_name commodity_desc unit_desc  value\n",
              "0  2000     38001          ND       ADAMS         BARLEY     ACRES  8,200\n",
              "1  2000     38001          ND       ADAMS         CANOLA     ACRES  2,300\n",
              "2  2000     38001          ND       ADAMS           CORN     ACRES  4,000\n",
              "3  2000     38001          ND       ADAMS           CORN     ACRES  4,900\n",
              "4  2000     38001          ND       ADAMS           CORN     ACRES  4,000"
            ]
          },
          "metadata": {
            "tags": []
          },
          "execution_count": 57
        }
      ]
    },
    {
      "cell_type": "code",
      "metadata": {
        "id": "cLMq7qklbF5y",
        "outputId": "59c98797-9bc9-4dbc-c950-f0f6a7c41754"
      },
      "source": [
        "df[df.value == '                 (D)'] = np.NaN\n",
        "df.dropna()\n",
        "df['value'] = df['value'].str.replace(',','')\n",
        "print(df.tail())\n",
        "df['value'] = df['value'].astype('float64')\n",
        "df.head()"
      ],
      "execution_count": null,
      "outputs": [
        {
          "output_type": "stream",
          "text": [
            "         year fips_code state_alpha     county_name commodity_desc unit_desc  \\\n",
            "14153  2020.0     38998          ND  OTHER COUNTIES       SOYBEANS     ACRES   \n",
            "14154  2020.0     38998          ND  OTHER COUNTIES      SUNFLOWER     ACRES   \n",
            "14155  2020.0     38998          ND  OTHER COUNTIES          WHEAT     ACRES   \n",
            "14156  2020.0     38998          ND  OTHER COUNTIES          WHEAT     ACRES   \n",
            "14157  2020.0     38998          ND  OTHER COUNTIES          WHEAT     ACRES   \n",
            "\n",
            "        value  \n",
            "14153   44750  \n",
            "14154  144900  \n",
            "14155  171100  \n",
            "14156  251080  \n",
            "14157   33000  \n"
          ],
          "name": "stdout"
        },
        {
          "output_type": "execute_result",
          "data": {
            "text/html": [
              "<div>\n",
              "<style scoped>\n",
              "    .dataframe tbody tr th:only-of-type {\n",
              "        vertical-align: middle;\n",
              "    }\n",
              "\n",
              "    .dataframe tbody tr th {\n",
              "        vertical-align: top;\n",
              "    }\n",
              "\n",
              "    .dataframe thead th {\n",
              "        text-align: right;\n",
              "    }\n",
              "</style>\n",
              "<table border=\"1\" class=\"dataframe\">\n",
              "  <thead>\n",
              "    <tr style=\"text-align: right;\">\n",
              "      <th></th>\n",
              "      <th>year</th>\n",
              "      <th>fips_code</th>\n",
              "      <th>state_alpha</th>\n",
              "      <th>county_name</th>\n",
              "      <th>commodity_desc</th>\n",
              "      <th>unit_desc</th>\n",
              "      <th>value</th>\n",
              "    </tr>\n",
              "  </thead>\n",
              "  <tbody>\n",
              "    <tr>\n",
              "      <th>0</th>\n",
              "      <td>2000.0</td>\n",
              "      <td>38001</td>\n",
              "      <td>ND</td>\n",
              "      <td>ADAMS</td>\n",
              "      <td>BARLEY</td>\n",
              "      <td>ACRES</td>\n",
              "      <td>8200.0</td>\n",
              "    </tr>\n",
              "    <tr>\n",
              "      <th>1</th>\n",
              "      <td>2000.0</td>\n",
              "      <td>38001</td>\n",
              "      <td>ND</td>\n",
              "      <td>ADAMS</td>\n",
              "      <td>CANOLA</td>\n",
              "      <td>ACRES</td>\n",
              "      <td>2300.0</td>\n",
              "    </tr>\n",
              "    <tr>\n",
              "      <th>2</th>\n",
              "      <td>2000.0</td>\n",
              "      <td>38001</td>\n",
              "      <td>ND</td>\n",
              "      <td>ADAMS</td>\n",
              "      <td>CORN</td>\n",
              "      <td>ACRES</td>\n",
              "      <td>4000.0</td>\n",
              "    </tr>\n",
              "    <tr>\n",
              "      <th>3</th>\n",
              "      <td>2000.0</td>\n",
              "      <td>38001</td>\n",
              "      <td>ND</td>\n",
              "      <td>ADAMS</td>\n",
              "      <td>CORN</td>\n",
              "      <td>ACRES</td>\n",
              "      <td>4900.0</td>\n",
              "    </tr>\n",
              "    <tr>\n",
              "      <th>4</th>\n",
              "      <td>2000.0</td>\n",
              "      <td>38001</td>\n",
              "      <td>ND</td>\n",
              "      <td>ADAMS</td>\n",
              "      <td>CORN</td>\n",
              "      <td>ACRES</td>\n",
              "      <td>4000.0</td>\n",
              "    </tr>\n",
              "  </tbody>\n",
              "</table>\n",
              "</div>"
            ],
            "text/plain": [
              "     year fips_code state_alpha county_name commodity_desc unit_desc   value\n",
              "0  2000.0     38001          ND       ADAMS         BARLEY     ACRES  8200.0\n",
              "1  2000.0     38001          ND       ADAMS         CANOLA     ACRES  2300.0\n",
              "2  2000.0     38001          ND       ADAMS           CORN     ACRES  4000.0\n",
              "3  2000.0     38001          ND       ADAMS           CORN     ACRES  4900.0\n",
              "4  2000.0     38001          ND       ADAMS           CORN     ACRES  4000.0"
            ]
          },
          "metadata": {
            "tags": []
          },
          "execution_count": 58
        }
      ]
    },
    {
      "cell_type": "code",
      "metadata": {
        "id": "4qKgnO1abF5y"
      },
      "source": [
        "\"\"\"county_dict is a dictionary containing the name of the county as the key and a dataframe for the county as a value\"\"\"\n",
        "county_dict = {}\n",
        "for county in df.county_name.unique():\n",
        "    data = df[df['county_name']==county]\n",
        "    county_dict.update({county:data})"
      ],
      "execution_count": null,
      "outputs": []
    },
    {
      "cell_type": "markdown",
      "metadata": {
        "id": "C7ZiLaTJbF5z"
      },
      "source": [
        "# The splitter returns a subset of the data based on years and crop type"
      ]
    },
    {
      "cell_type": "code",
      "metadata": {
        "id": "mdEiSRhGbF5z"
      },
      "source": [
        "def splitter(county,year_max,year_min,crop,desc=None):\n",
        "    sub = county_dict[county]\n",
        "    if desc != None:\n",
        "        crop = sub.loc[(sub['year']>=year_min)&(sub['year']<=year_max) & (sub['commodity_desc'] == crop) & (sub['short_desc'] == desc)]\n",
        "    else:\n",
        "        crop = sub.loc[(sub['year']>=year_min)&(sub['year']<=year_max) & (sub['commodity_desc'] == crop)]\n",
        "    crop.set_index('year',inplace = True)\n",
        "    return crop"
      ],
      "execution_count": null,
      "outputs": []
    },
    {
      "cell_type": "code",
      "metadata": {
        "id": "ha9NwdmzbF5z"
      },
      "source": [
        ""
      ],
      "execution_count": null,
      "outputs": []
    }
  ]
}