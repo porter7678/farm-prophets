{
 "cells": [
  {
   "cell_type": "code",
   "execution_count": 2,
   "metadata": {},
   "outputs": [],
   "source": [
    "import numpy as np\n",
    "import pandas as pd\n",
    "import matplotlib.pyplot as plt\n",
    "import missingno\n",
    "from itertools import permutations\n",
    "\n",
    "import torch\n",
    "import torch.nn as nn\n",
    "import torch.nn.functional as F\n",
    "import torch.optim as optim\n",
    "from torchvision import datasets, transforms\n",
    "from torch.utils.data import DataLoader, RandomSampler\n",
    "from tqdm import tqdm"
   ]
  },
  {
   "cell_type": "code",
   "execution_count": 3,
   "metadata": {},
   "outputs": [],
   "source": [
    "data_path = '../data/corn_not_corn%2.csv'\n",
    "data = pd.read_csv(data_path, index_col=0)\n",
    "data['year'] = data['year'].apply(int)\n",
    "data = data.sort_values(['year', 'county_name', 'commodity_desc'])\n",
    "data = data.set_index('year')\n",
    "data = data.drop(columns=['percent'])\n",
    "\n",
    "# Just get the corn\n",
    "data = data[data['commodity_desc'] == 'CORN']\n",
    "data = data.drop(columns=['commodity_desc'])\n",
    "county_names = data['county_name'].unique()\n",
    "\n",
    "corn = pd.DataFrame(index=np.arange(1919, 2021))\n",
    "for county in county_names:\n",
    "    df = data[data['county_name'] == county]\n",
    "    corn[county] = df['value']\n",
    "\n",
    "corn = corn.interpolate()\n"
   ]
  },
  {
   "cell_type": "code",
   "execution_count": 32,
   "metadata": {},
   "outputs": [
    {
     "name": "stdout",
     "output_type": "stream",
     "text": [
      "1728 120 120\n"
     ]
    }
   ],
   "source": [
    "perms = np.array([np.array(p) for p in permutations(np.arange(4))])[:6] # Use for data augmentation\n",
    "\n",
    "X = corn.to_numpy()\n",
    "X_max = np.max(X)\n",
    "X = X/X_max\n",
    "year = 1919\n",
    "test_size = 5\n",
    "window = 10\n",
    "\n",
    "train_data = [] # Train data starts 1919-1979 and 1994-2005, predict 1929-1989 and 2004-2015\n",
    "val_data = []   # Val data starts 1980-1984, predict 1990-1994\n",
    "test_data = []  # Test data starts 2006-2010, predict 2016-2020\n",
    "# We toss out 1985-1993 and predicting on 1995-2003\n",
    "for i in range(len(X) - window):\n",
    "    X_temp = X.copy()\n",
    "    for j in range(len(X[0])): # Make a data point for each county that year\n",
    "        for perm in perms:\n",
    "            sample = X_temp[i:i+window]\n",
    "            sample = sample[:, perm]\n",
    "            label = X_temp[i+window][0]\n",
    "            if year+i in np.arange(1980, 1985): # val\n",
    "                val_data.append([sample, label])\n",
    "            elif year+i in np.arange(2006, 2011): # test\n",
    "                test_data.append([sample, label])\n",
    "            elif year+i not in np.arange(1985, 1995): # train\n",
    "                train_data.append([sample, label])\n",
    "        X_temp = np.roll(X_temp, 1, axis=1)\n",
    "        \n",
    "print(len(train_data), len(val_data), len(test_data))\n",
    "        \n",
    "\n",
    "batch_size = 24\n",
    "train_loader = DataLoader(train_data,\n",
    "                         batch_size=batch_size,\n",
    "                         shuffle=False) # TODO: Actually shuffle\n",
    "val_loader = DataLoader(val_data,\n",
    "                       batch_size=batch_size,\n",
    "                       shuffle=False)\n",
    "test_loader =  DataLoader(test_data,\n",
    "                         batch_size=1,\n",
    "                         shuffle=False)\n",
    "\n",
    "# plt.plot(np.arange(1919, 2021)[60:], X.T[0][60:]*X_max)\n",
    "# plt.plot(np.arange(1919, 2021)[60:], X.T[1][60:]*X_max)\n",
    "# plt.plot(np.arange(1919, 2021)[60:], X.T[2][60:]*X_max)\n",
    "# plt.plot(np.arange(1919, 2021)[60:], X.T[3][60:]*X_max)\n",
    "# plt.grid()\n",
    "# plt.show()"
   ]
  },
  {
   "cell_type": "code",
   "execution_count": 33,
   "metadata": {},
   "outputs": [],
   "source": [
    "class CNN(nn.Module):\n",
    "    def __init__(self, kernel_len=3):\n",
    "        super(CNN, self).__init__()\n",
    "\n",
    "        self.conv1 = nn.Conv2d(in_channels=1, out_channels=64, kernel_size=(kernel_len, 4), padding=(1,0), padding_mode='reflect')\n",
    "        self.conv2 = nn.Conv2d(in_channels=64, out_channels=64, kernel_size=(kernel_len, 1), padding=(1,0), padding_mode='reflect')\n",
    "        self.relu = nn.ReLU()\n",
    "        self.dropout = nn.Dropout(.5)\n",
    "        self.maxpool = nn.MaxPool2d(kernel_size=(2, 1))\n",
    "        self.flatten = nn.Flatten()\n",
    "        \n",
    "        self.linear1 = nn.Linear(in_features=64*5, out_features=100)\n",
    "        self.linear2 = nn.Linear(in_features=100, out_features=1)\n",
    "\n",
    "    def forward(self, x):\n",
    "        output = self.relu(self.conv1(x))\n",
    "        output = self.relu(self.conv2(output))\n",
    "        output = self.dropout(output)\n",
    "        output = self.maxpool(output)\n",
    "        output = self.flatten(output)\n",
    "        output = self.relu(self.linear1(output))\n",
    "        return self.linear2(output)"
   ]
  },
  {
   "cell_type": "code",
   "execution_count": 35,
   "metadata": {},
   "outputs": [
    {
     "name": "stderr",
     "output_type": "stream",
     "text": [
      "epoch:495 loss:0.04279: 100%|██████████| 36000/36000 [02:19<00:00, 275.43it/s]"
     ]
    }
   ],
   "source": [
    "torch.manual_seed(1)\n",
    "\n",
    "def val_error(model):\n",
    "    model.eval()\n",
    "    all_losses = []\n",
    "    for (x, y_truth) in val_loader:\n",
    "        x = x.unsqueeze(1).float()\n",
    "        y_truth = y_truth.float()\n",
    "        outputs = model(x)\n",
    "        outputs = outputs.flatten()\n",
    "        loss = RMSE(outputs, y_truth)\n",
    "        all_losses.append(loss.item())\n",
    "    return np.mean(all_losses)\n",
    "\n",
    "model = CNN()\n",
    "MSE = nn.MSELoss()\n",
    "def RMSE(pred, y_truth):\n",
    "    return torch.sqrt(MSE(pred, y_truth))\n",
    "\n",
    "optimizer = optim.Adam(model.parameters(), lr=1e-4)\n",
    "num_epochs = 500\n",
    "loop = tqdm(total=len(train_loader)*num_epochs, position=0)\n",
    "print_every = 5\n",
    "\n",
    "train_losses = []\n",
    "val_losses = []\n",
    "for epoch in range(num_epochs):\n",
    "    model.train()\n",
    "    epoch_loss = []\n",
    "    for (x, y_truth) in train_loader:\n",
    "        optimizer.zero_grad()\n",
    "\n",
    "        x = x.unsqueeze(1).float()\n",
    "        y_truth = y_truth.float()\n",
    "        \n",
    "        outputs = model(x)\n",
    "        outputs = outputs.flatten()\n",
    "        loss = RMSE(outputs, y_truth)\n",
    "        epoch_loss.append(loss.item())\n",
    "        loss.backward()\n",
    "        optimizer.step()\n",
    "\n",
    "        loop.update()\n",
    "\n",
    "    if epoch % print_every == 0:\n",
    "        loop.set_description('epoch:{} loss:{:.5f}'.format(epoch, loss.item()))\n",
    "    train_losses.append(np.mean(epoch_loss))\n",
    "    val_loss = val_error(model)\n",
    "    val_losses.append(val_loss)"
   ]
  },
  {
   "cell_type": "code",
   "execution_count": 12,
   "metadata": {},
   "outputs": [
    {
     "data": {
      "image/png": "[encoded data removed]",
      "text/plain": [
       "<Figure size 432x288 with 1 Axes>"
      ]
     },
     "metadata": {
      "needs_background": "light"
     },
     "output_type": "display_data"
    },
    {
     "name": "stderr",
     "output_type": "stream",
     "text": [
      "epoch:490 loss:0.05004: 100%|██████████| 7500/7500 [00:39<00:00, 348.61it/s]"
     ]
    }
   ],
   "source": [
    "plt.plot(train_losses, label='train')\n",
    "plt.plot(val_losses, label='val')\n",
    "plt.legend()\n",
    "plt.ylim(bottom=0)\n",
    "plt.grid()\n",
    "plt.show()"
   ]
  },
  {
   "cell_type": "code",
   "execution_count": 28,
   "metadata": {},
   "outputs": [
    {
     "name": "stdout",
     "output_type": "stream",
     "text": [
      "63145.7890625\n",
      "33620.0234375\n",
      "16779.935546875\n",
      "54175.828125\n",
      "42506.984375\n",
      "18646.794921875\n",
      "19840.28515625\n",
      "38833.59375\n",
      "17573.3046875\n",
      "7217.001953125\n",
      "15315.244140625\n",
      "21466.921875\n",
      "2948.453125\n",
      "9601.734375\n",
      "1034.62109375\n",
      "8106.828125\n",
      "22673.3125\n",
      "26145.12890625\n",
      "11606.33203125\n",
      "45196.6171875\n"
     ]
    }
   ],
   "source": [
    "def test_error(model):\n",
    "    model.eval()\n",
    "    all_losses = []\n",
    "    for (x, y_truth) in test_loader:\n",
    "        x = x.unsqueeze(1).float()\n",
    "        y_truth = y_truth.float()\n",
    "        outputs = model(x)\n",
    "        outputs = outputs.flatten()\n",
    "        outputs *= X_max   # Reverse normalization\n",
    "        y_truth *= X_max\n",
    "        test_mse = MSE(outputs, y_truth).item()\n",
    "        test_mae = MAE(outputs, y_truth).item()\n",
    "        print(test_mae)\n",
    "        all_losses.append(loss.item())\n",
    "    return np.mean(all_losses)\n",
    "\n",
    "test_mse = test_error(model)"
   ]
  },
  {
   "cell_type": "code",
   "execution_count": 24,
   "metadata": {},
   "outputs": [
    {
     "name": "stdout",
     "output_type": "stream",
     "text": [
      "[[0 1 2 3]\n",
      " [0 1 3 2]\n",
      " [0 2 1 3]\n",
      " [0 2 3 1]\n",
      " [0 3 1 2]\n",
      " [0 3 2 1]\n",
      " [1 0 2 3]]\n"
     ]
    }
   ],
   "source": [
    "arr = np.array([[0, 1, 2, 3],\n",
    "          [0, 1, 2, 3],\n",
    "          [0, 1, 2, 3],\n",
    "          [0, 1, 2, 3],\n",
    "          [0, 1, 2, 3],\n",
    "          [0, 1, 2, 3],\n",
    "          [0, 1, 2, 3],\n",
    "          [0, 1, 2, 3]])\n",
    "\n",
    "print(perms[:6])"
   ]
  },
  {
   "cell_type": "code",
   "execution_count": null,
   "metadata": {},
   "outputs": [],
   "source": []
  }
 ],
 "metadata": {
  "kernelspec": {
   "display_name": "Python 3",
   "language": "python",
   "name": "python3"
  },
  "language_info": {
   "codemirror_mode": {
    "name": "ipython",
    "version": 3
   },
   "file_extension": ".py",
   "mimetype": "text/x-python",
   "name": "python",
   "nbconvert_exporter": "python",
   "pygments_lexer": "ipython3",
   "version": "3.7.3"
  }
 },
 "nbformat": 4,
 "nbformat_minor": 4
}
