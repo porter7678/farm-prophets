{
 "cells": [
  {
   "cell_type": "code",
   "execution_count": 1,
   "metadata": {},
   "outputs": [],
   "source": [
    "import numpy as np\n",
    "import pandas as pd\n",
    "import matplotlib.pyplot as plt\n",
    "import missingno\n",
    "from itertools import permutations\n",
    "\n",
    "import torch\n",
    "import torch.nn as nn\n",
    "import torch.nn.functional as F\n",
    "import torch.optim as optim\n",
    "from torchvision import datasets, transforms\n",
    "from torch.utils.data import DataLoader, RandomSampler\n",
    "from tqdm import tqdm\n",
    "from sklearn.metrics import mean_squared_error"
   ]
  },
  {
   "cell_type": "code",
   "execution_count": 18,
   "metadata": {},
   "outputs": [
    {
     "data": {
      "text/plain": [
       "408"
      ]
     },
     "execution_count": 18,
     "metadata": {},
     "output_type": "execute_result"
    }
   ],
   "source": [
    "data_path = '../data/corn_not_corn%2.csv'\n",
    "data = pd.read_csv(data_path, index_col=0)\n",
    "data['year'] = data['year'].apply(int)\n",
    "data = data.sort_values(['year', 'county_name', 'commodity_desc'])\n",
    "data = data.set_index('year')\n",
    "data = data.drop(columns=['percent'])\n",
    "\n",
    "# Just get the corn\n",
    "data = data[data['commodity_desc'] == 'CORN']\n",
    "data = data.drop(columns=['commodity_desc'])\n",
    "county_names = data['county_name'].unique()\n",
    "\n",
    "corn = pd.DataFrame(index=np.arange(1919, 2021))\n",
    "for county in county_names:\n",
    "    df = data[data['county_name'] == county]\n",
    "    corn[county] = df['value']\n",
    "\n",
    "# corn = corn.interpolate()\n",
    "corn.head()\n",
    "corn.size"
   ]
  },
  {
   "cell_type": "code",
   "execution_count": 3,
   "metadata": {},
   "outputs": [],
   "source": [
    "perms = np.array([np.array(p) for p in permutations(np.arange(4))])[:6] # Use for data augmentation\n",
    "\n",
    "X = corn.to_numpy()\n",
    "X_max = np.max(X)\n",
    "X = X/X_max\n",
    "year = 1919\n",
    "test_size = 5\n",
    "window = 10\n",
    "\n",
    "train_data = [] # Train data starts 1919-1985, predict 1929-1995\n",
    "test_data = []  # Test data starts 1986-1990, predict 1996-2000\n",
    "for i in range(len(X) - window):\n",
    "    X_temp = X.copy()\n",
    "    for j in range(len(X[0])): # Make a data point for each county that year\n",
    "        for k, perm in enumerate(perms):\n",
    "            sample = X_temp[i:i+window]\n",
    "            sample = sample[:, perm]\n",
    "            label = X_temp[i+window][0]\n",
    "            if year+i in np.arange(1986, 1991): # test\n",
    "                if k == 0:\n",
    "                    test_data.append([sample, label])\n",
    "            elif year+i in np.arange(1919, 1986):\n",
    "                train_data.append([sample, label])\n",
    "        X_temp = np.roll(X_temp, 1, axis=1)    \n",
    "\n",
    "batch_size = 24\n",
    "train_loader = DataLoader(train_data,\n",
    "                         batch_size=batch_size,\n",
    "                         shuffle=True)\n",
    "test_loader =  DataLoader(test_data,\n",
    "                         batch_size=1,\n",
    "                         shuffle=False)\n",
    "\n",
    "# plt.plot(np.arange(1919, 2021), X.T[0]*X_max)\n",
    "# plt.plot(np.arange(1919, 2021), X.T[1]*X_max)\n",
    "# plt.plot(np.arange(1919, 2021), X.T[2]*X_max)\n",
    "# plt.plot(np.arange(1919, 2021), X.T[3]*X_max)\n",
    "# plt.grid()\n",
    "# plt.show()"
   ]
  },
  {
   "cell_type": "code",
   "execution_count": 4,
   "metadata": {},
   "outputs": [],
   "source": [
    "class CNN(nn.Module):\n",
    "    def __init__(self, n_filters=64, kernel_len=3, linear_size=100, dropout=.5):\n",
    "        super(CNN, self).__init__()\n",
    "\n",
    "        self.conv1 = nn.Conv2d(in_channels=1, out_channels=n_filters, kernel_size=(kernel_len, 4), padding=(kernel_len//2,0), padding_mode='reflect')\n",
    "        self.conv2 = nn.Conv2d(in_channels=n_filters, out_channels=n_filters, kernel_size=(kernel_len, 1), padding=(kernel_len//2,0), padding_mode='reflect')\n",
    "        self.relu = nn.ReLU()\n",
    "        self.dropout = nn.Dropout(dropout)\n",
    "        self.maxpool = nn.MaxPool2d(kernel_size=(2, 1))\n",
    "        self.flatten = nn.Flatten()\n",
    "        \n",
    "        self.linear1 = nn.Linear(in_features=n_filters*5, out_features=linear_size)\n",
    "        self.linear2 = nn.Linear(in_features=linear_size, out_features=1)\n",
    "\n",
    "    def forward(self, x):\n",
    "        output = self.relu(self.conv1(x))\n",
    "        output = self.relu(self.conv2(output))\n",
    "        output = self.dropout(output)\n",
    "        output = self.maxpool(output)\n",
    "        output = self.flatten(output)\n",
    "        output = self.relu(self.linear1(output))\n",
    "        return self.linear2(output)"
   ]
  },
  {
   "cell_type": "code",
   "execution_count": 8,
   "metadata": {},
   "outputs": [],
   "source": [
    "def val_error(model):\n",
    "    model.eval()\n",
    "    all_losses = []\n",
    "    for (x, y_truth) in val_loader:\n",
    "#         x = x.to(device)\n",
    "#         y_truth = y_truth.to(device)\n",
    "        x = x.unsqueeze(1).float()\n",
    "        y_truth = y_truth.float()\n",
    "\n",
    "        outputs = model(x)\n",
    "        outputs = outputs.flatten()\n",
    "        loss = RMSE(outputs, y_truth)\n",
    "        all_losses.append(loss.item())\n",
    "    return np.mean(all_losses)\n",
    "\n",
    "def RMSE(pred, y_truth):\n",
    "    MSE = nn.MSELoss()\n",
    "    return torch.sqrt(MSE(pred, y_truth))\n",
    "\n",
    "\n",
    "def train_model(n_filters, kernel_len, linear_size, dropout):\n",
    "    model = CNN(n_filters, kernel_len, linear_size, dropout)\n",
    "#     model = model.to(device)\n",
    "\n",
    "    optimizer = optim.Adam(model.parameters(), lr=1e-4)\n",
    "    num_epochs = 300\n",
    "    loop = tqdm(total=len(train_loader)*num_epochs, position=0)\n",
    "    print_every = 5\n",
    "\n",
    "    train_losses = []\n",
    "    val_losses = []\n",
    "    for epoch in range(num_epochs):\n",
    "        model.train()\n",
    "        epoch_loss = []\n",
    "        for (x, y_truth) in train_loader:\n",
    "            optimizer.zero_grad()\n",
    "\n",
    "#             x = x.to(device)\n",
    "#             y_truth = y_truth.to(device)\n",
    "\n",
    "            x = x.unsqueeze(1).float()\n",
    "            y_truth = y_truth.float()\n",
    "            \n",
    "            outputs = model(x)\n",
    "            outputs = outputs.flatten()\n",
    "            loss = RMSE(outputs, y_truth)\n",
    "            epoch_loss.append(loss.item())\n",
    "            loss.backward()\n",
    "            optimizer.step()\n",
    "\n",
    "            loop.update()\n",
    "\n",
    "        if epoch % print_every == 0:\n",
    "            loop.set_description('epoch:{} loss:{:.5f}'.format(epoch, loss.item()))\n",
    "        train_losses.append(np.mean(epoch_loss))\n",
    "#         val_loss = val_error(model)\n",
    "#         val_losses.append(val_loss)\n",
    "\n",
    "    plt.plot(train_losses, label='train')\n",
    "#     plt.plot(val_losses, label='val')\n",
    "    plt.legend()\n",
    "    plt.ylim(bottom=0)\n",
    "    plt.grid()\n",
    "    plt.title('{}, {}, {}, {}'.format(n_filters, kernel_len, linear_size, dropout))\n",
    "    plt.show()\n",
    "#     print('\\nFinal Val:', val_losses[-1])\n",
    "#     return val_losses\n",
    "    return model"
   ]
  },
  {
   "cell_type": "code",
   "execution_count": 9,
   "metadata": {},
   "outputs": [
    {
     "name": "stderr",
     "output_type": "stream",
     "text": [
      "epoch:295 loss:0.01295: 100%|█████████▉| 20096/20100 [01:23<00:00, 242.15it/s]"
     ]
    },
    {
     "data": {
      "image/png": "[encoded data removed]",
      "text/plain": [
       "<Figure size 432x288 with 1 Axes>"
      ]
     },
     "metadata": {
      "needs_background": "light"
     },
     "output_type": "display_data"
    }
   ],
   "source": [
    "model = train_model(64, 5, 20, 0.3)"
   ]
  },
  {
   "cell_type": "code",
   "execution_count": 10,
   "metadata": {},
   "outputs": [
    {
     "name": "stdout",
     "output_type": "stream",
     "text": [
      "[16471.4140625, 4345.51171875, 3251.30859375, 13618.67578125, 18776.859375, 6938.255859375, 8471.3671875, 7381.73828125, 2434.3125, 8360.4921875, 8716.130859375, 16927.41015625, 17067.09375, 10973.986328125, 12264.2890625, 2450.4140625, 77886.5625, 1232.521484375, 3342.5341796875, 58020.23828125]\n",
      "14946.555810546875\n"
     ]
    }
   ],
   "source": [
    "model.eval()\n",
    "test_errors_1year = []\n",
    "for (x, y_truth) in test_loader:\n",
    "    x = x.unsqueeze(1).float()\n",
    "    y_truth = y_truth.float()\n",
    "    outputs = model(x)\n",
    "    outputs = outputs.flatten()\n",
    "    outputs *= X_max   # Reverse normalization\n",
    "    y_truth *= X_max\n",
    "    error = RMSE(outputs, y_truth)\n",
    "    test_errors_1year.append(error.item())\n",
    "    \n",
    "print(test_errors_1year)\n",
    "print(np.mean(test_errors_1year))"
   ]
  },
  {
   "cell_type": "code",
   "execution_count": 12,
   "metadata": {},
   "outputs": [
    {
     "name": "stdout",
     "output_type": "stream",
     "text": [
      "27903.368365377573\n"
     ]
    },
    {
     "name": "stderr",
     "output_type": "stream",
     "text": [
      "epoch:295 loss:0.01295: 100%|██████████| 20100/20100 [01:42<00:00, 242.15it/s]"
     ]
    }
   ],
   "source": [
    "model.eval()\n",
    "\n",
    "data0 = test_data[0][0]\n",
    "curr_data = data0.copy()\n",
    "new_year_data = []\n",
    "preds = []\n",
    "for i in range(5):\n",
    "    for j in range(4):\n",
    "        x = torch.Tensor(curr_data)\n",
    "        x = x.unsqueeze(0)\n",
    "        x = x.unsqueeze(1).float()\n",
    "        outputs = model(x)\n",
    "        outputs = outputs.item()\n",
    "        new_year_data.append(outputs)\n",
    "        preds.append(outputs)\n",
    "        curr_data = np.roll(curr_data, 1, axis=1)\n",
    "    curr_data = np.vstack((curr_data[1:], new_year_data))\n",
    "    new_year_data = []\n",
    "\n",
    "preds = np.array(preds) * X_max\n",
    "labels = np.array([x[1] for x in test_data]) * X_max\n",
    "test_error_5year = mean_squared_error(labels, preds, squared=False)\n",
    "print(test_error_5year)"
   ]
  },
  {
   "cell_type": "code",
   "execution_count": 96,
   "metadata": {},
   "outputs": [
    {
     "data": {
      "text/plain": [
       "<AxesSubplot:>"
      ]
     },
     "execution_count": 96,
     "metadata": {},
     "output_type": "execute_result"
    },
    {
     "data": {
      "image/png": "[encoded data removed]",
      "text/plain": [
       "<Figure size 432x288 with 1 Axes>"
      ]
     },
     "metadata": {
      "needs_background": "light"
     },
     "output_type": "display_data"
    }
   ],
   "source": [
    "corn.plot()"
   ]
  },
  {
   "cell_type": "code",
   "execution_count": null,
   "metadata": {},
   "outputs": [],
   "source": []
  }
 ],
 "metadata": {
  "kernelspec": {
   "display_name": "Python 3",
   "language": "python",
   "name": "python3"
  },
  "language_info": {
   "codemirror_mode": {
    "name": "ipython",
    "version": 3
   },
   "file_extension": ".py",
   "mimetype": "text/x-python",
   "name": "python",
   "nbconvert_exporter": "python",
   "pygments_lexer": "ipython3",
   "version": "3.7.3"
  }
 },
 "nbformat": 4,
 "nbformat_minor": 4
}
